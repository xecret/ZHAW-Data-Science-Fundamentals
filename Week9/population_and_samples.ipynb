{
 "cells": [
  {
   "cell_type": "markdown",
   "id": "51316a6b",
   "metadata": {},
   "source": [
    "# Population and samples in statistics"
   ]
  },
  {
   "cell_type": "markdown",
   "id": "8e6daf68",
   "metadata": {},
   "source": [
    "## Libraries and settings"
   ]
  },
  {
   "cell_type": "code",
   "execution_count": null,
   "id": "b6fb404c",
   "metadata": {},
   "outputs": [],
   "source": [
    "# Libraries\n",
    "import os\n",
    "import numpy as np\n",
    "import random\n",
    "import statistics\n",
    "import matplotlib.pyplot as plt\n",
    "from IPython.display import Image\n",
    "\n",
    "# Ignore warnings\n",
    "import warnings\n",
    "warnings.filterwarnings(\"ignore\")\n",
    "\n",
    "# Current working directory\n",
    "print(os.getcwd())"
   ]
  },
  {
   "cell_type": "markdown",
   "id": "fd9a8300",
   "metadata": {},
   "source": [
    "## Chickens on a chicken farm (population)"
   ]
  },
  {
   "cell_type": "code",
   "execution_count": null,
   "id": "3bb885dd",
   "metadata": {},
   "outputs": [],
   "source": [
    "Image(\"img.png\", width=800)"
   ]
  },
  {
   "cell_type": "code",
   "execution_count": null,
   "id": "23773c12",
   "metadata": {},
   "outputs": [],
   "source": [
    "# Parameters of distribution\n",
    "p_mean = 2800\n",
    "p_std = 240\n",
    "p_n = 25000\n",
    "\n",
    "# Setting a seed to restore the random numbers later\n",
    "random.seed(42)\n",
    "\n",
    "# Generate (normally distributed) data with mean = 2800 g and standard deviation = 240 g\n",
    "pop = np.random.normal(loc=p_mean, scale=p_std, size=p_n)\n",
    "print(f'{len(pop):.0f}')\n",
    "print(f'{np.mean(pop):.4f}')\n",
    "print(f'{np.std(pop):.4f}')\n",
    "\n",
    "# Plot histogram based on the data\n",
    "import matplotlib.pyplot as plt\n",
    "plt.hist(pop, bins = 50, color='gold')\n",
    "plt.title('Weights of chickens on a chicken farm (population)')\n",
    "plt.xlabel('Weight (grams)')\n",
    "plt.ylabel('Number of chickens')\n",
    "\n",
    "plt.show()"
   ]
  },
  {
   "cell_type": "markdown",
   "id": "b6501407",
   "metadata": {},
   "source": [
    "## Single random sample from the population"
   ]
  },
  {
   "cell_type": "code",
   "execution_count": null,
   "id": "1fa9026f",
   "metadata": {},
   "outputs": [],
   "source": [
    "# Sample size\n",
    "sample_size = 200\n",
    "\n",
    "# Setting a seed to restore the random numbers later\n",
    "random.seed(42)\n",
    "\n",
    "# Random sample\n",
    "random_sample = random.sample(list(pop), sample_size)\n",
    "\n",
    "# Statistics of the sample\n",
    "print(f'Mean: {statistics.mean(random_sample):.4f}')\n",
    "print(f'Standard deviation: {statistics.stdev(random_sample):.4f}')\n",
    "\n",
    "# Plot histogram based on the sample\n",
    "import matplotlib.pyplot as plt\n",
    "plt.hist(random_sample, bins = 50, color='deepskyblue')\n",
    "plt.title(f'Weights of chickens (single sample with n={sample_size})', fontsize=10)\n",
    "plt.xlabel('Weight (grams)')\n",
    "plt.ylabel('Number of chickens')\n",
    "\n",
    "plt.show()"
   ]
  },
  {
   "cell_type": "markdown",
   "id": "a22d0680",
   "metadata": {},
   "source": [
    "## Repeated random sampling 'with replacement' (bootstrapping)"
   ]
  },
  {
   "cell_type": "code",
   "execution_count": null,
   "id": "3b6decdb",
   "metadata": {},
   "outputs": [],
   "source": [
    "# Define number of samples and sample size\n",
    "num_iterations = 5000\n",
    "sample_size = 200\n",
    "\n",
    "# Create empty lists to save results of iterations\n",
    "sample_mean = []\n",
    "sample_std  = []\n",
    "\n",
    "# Loop for iterations\n",
    "for i in range(num_iterations):\n",
    "    samp = random.sample(pop.tolist(), sample_size)\n",
    "    avg = np.mean(samp)\n",
    "    std = np.std(samp)\n",
    "    sample_mean.append(avg)\n",
    "    sample_std.append(std)\n",
    "\n",
    "# Print mean and sd of bootsstapped distribution\n",
    "print(f'{np.mean(sample_mean):.4f}')\n",
    "print(f'{np.mean(sample_std):.4f}')\n",
    "\n",
    "# Plot histogram based on the bootstrapped data\n",
    "plt.hist(sample_mean, bins = 50, color='mediumorchid')\n",
    "plt.title('Weights of chickens (bootstrap sample)', fontsize=10)\n",
    "plt.xlabel('Weight (grams)')\n",
    "plt.ylabel('Number of chickens')\n",
    "plt\n",
    "plt.show()"
   ]
  },
  {
   "cell_type": "markdown",
   "id": "b077fdb7",
   "metadata": {},
   "source": [
    "### Jupyter notebook --footer info-- (please always provide this at the end of each notebook)"
   ]
  },
  {
   "cell_type": "code",
   "execution_count": null,
   "id": "f41ef994",
   "metadata": {},
   "outputs": [],
   "source": [
    "import os\n",
    "import platform\n",
    "import socket\n",
    "from platform import python_version\n",
    "from datetime import datetime\n",
    "\n",
    "print('-----------------------------------')\n",
    "print(os.name.upper())\n",
    "print(platform.system(), '|', platform.release())\n",
    "print('Datetime:', datetime.now().strftime(\"%Y-%m-%d %H:%M:%S\"))\n",
    "print('Python Version:', python_version())\n",
    "print('-----------------------------------')"
   ]
  }
 ],
 "metadata": {
  "kernelspec": {
   "display_name": "Python 3 (ipykernel)",
   "language": "python",
   "name": "python3"
  },
  "language_info": {
   "codemirror_mode": {
    "name": "ipython",
    "version": 3
   },
   "file_extension": ".py",
   "mimetype": "text/x-python",
   "name": "python",
   "nbconvert_exporter": "python",
   "pygments_lexer": "ipython3",
   "version": "3.10.13"
  }
 },
 "nbformat": 4,
 "nbformat_minor": 5
}
